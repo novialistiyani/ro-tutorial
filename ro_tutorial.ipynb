{
 "cells": [
  {
   "cell_type": "markdown",
   "metadata": {},
   "source": [
    "### 1) EXACT APPROACH: BRANCH-AND-BOUND $^{3}$\n",
    "##### a) Initiate library and variables"
   ]
  },
  {
   "cell_type": "code",
   "execution_count": 110,
   "metadata": {},
   "outputs": [],
   "source": [
    "import pandas as pd\n",
    "import numpy as np\n",
    "import numpy.random as rd\n",
    "import matplotlib.pyplot as plt\n",
    "from ortools.algorithms import pywrapknapsack_solver"
   ]
  },
  {
   "cell_type": "code",
   "execution_count": 111,
   "metadata": {},
   "outputs": [],
   "source": [
    "# taken from OR-tools docs https://developers.google.com/optimization/bin/knapsack\n",
    "\n",
    "values = [\n",
    "    360, 83, 59, 130, 431, 67, 230, 52, 93, 125, 670, 892, 600, 38, 48, 147,\n",
    "    78, 256, 63, 17, 120, 164, 432, 35, 92, 110, 22, 42, 50, 323, 514, 28,\n",
    "    87, 73, 78, 15, 26, 78, 210, 36, 85, 189, 274, 43, 33, 10, 19, 389, 276,\n",
    "    312\n",
    "]\n",
    "weights = [[\n",
    "    7, 0, 30, 22, 80, 94, 11, 81, 70, 64, 59, 18, 0, 36, 3, 8, 15, 42, 9, 0,\n",
    "    42, 47, 52, 32, 26, 48, 55, 6, 29, 84, 2, 4, 18, 56, 7, 29, 93, 44, 71,\n",
    "    3, 86, 66, 31, 65, 0, 79, 20, 65, 52, 13\n",
    "]]\n",
    "capacities = [850]"
   ]
  },
  {
   "cell_type": "markdown",
   "metadata": {},
   "source": [
    "##### b) Define solver function for exact method"
   ]
  },
  {
   "cell_type": "code",
   "execution_count": 112,
   "metadata": {},
   "outputs": [],
   "source": [
    "def knapsack_solver(values, weights, capacities, is_detail=False):\n",
    "    \n",
    "    # defining solver from ortools\n",
    "    solver = pywrapknapsack_solver.KnapsackSolver(\n",
    "        pywrapknapsack_solver.KnapsackSolver.\n",
    "        KNAPSACK_MULTIDIMENSION_BRANCH_AND_BOUND_SOLVER, 'KnapsackExample')\n",
    "\n",
    "    solver.Init(values, weights, capacities)\n",
    "    total_value = solver.Solve()\n",
    "    \n",
    "    # to capture total of weight inside the knapsack\n",
    "    total_weight = 0\n",
    "    \n",
    "    # for detailed input, add information of weight packed inside the knapsack\n",
    "    if is_detail == True:\n",
    "        total_packed_weight = []\n",
    "        for i in range(len(values)):\n",
    "            if solver.BestSolutionContains(i):\n",
    "                total_packed_weight.append(weights[0][i])\n",
    "                total_weight += weights[0][i]\n",
    "            else:\n",
    "                total_packed_weight.append(-1)\n",
    "    \n",
    "    # for non-detailed input, skip the step of adding information of weight packed inside the knapsack\n",
    "    else:\n",
    "        total_packed_weight = None\n",
    "        for i in range(len(values)):\n",
    "            if solver.BestSolutionContains(i):\n",
    "                total_weight += weights[0][i]\n",
    "\n",
    "    return total_value, total_weight, total_packed_weight"
   ]
  },
  {
   "cell_type": "markdown",
   "metadata": {},
   "source": [
    "##### c) Get result"
   ]
  },
  {
   "cell_type": "code",
   "execution_count": 113,
   "metadata": {},
   "outputs": [
    {
     "name": "stdout",
     "output_type": "stream",
     "text": [
      "total_value: 7534\n",
      "total_weight: 850\n",
      "total_packed_weight: [7, 0, -1, 22, 80, -1, 11, -1, -1, -1, 59, 18, 0, -1, 3, 8, 15, 42, 9, 0, -1, 47, 52, -1, 26, -1, -1, 6, 29, 84, 2, 4, 18, -1, 7, -1, -1, -1, 71, 3, -1, 66, 31, -1, 0, -1, -1, 65, 52, 13]\n"
     ]
    }
   ],
   "source": [
    "total_value_simple, total_weight_simple, total_packed_weight_simple = knapsack_solver(values, weights, capacities, True)\n",
    "\n",
    "print('total_value:', total_value_simple)\n",
    "print('total_weight:', total_weight_simple)\n",
    "print('total_packed_weight:', total_packed_weight_simple)"
   ]
  },
  {
   "cell_type": "markdown",
   "metadata": {},
   "source": [
    "### 2) WHEN UNCERTAINTY APPEARS: COMPARE SOLUTIONS\n",
    "##### a) Initiate variables to add randomness (will also be used in section (3) below)"
   ]
  },
  {
   "cell_type": "code",
   "execution_count": 114,
   "metadata": {},
   "outputs": [],
   "source": [
    "delta = 0.2 * np.array(weights[0])\n",
    "num_samp = 1000\n",
    "N = 50\n",
    "\n",
    "# random samples for z\n",
    "rd.seed(42)\n",
    "zs = 1-2*rd.rand(num_samp, N) "
   ]
  },
  {
   "cell_type": "markdown",
   "metadata": {},
   "source": [
    "##### b) Initiate simulation function where the input has a particular degree of uncertainty (will also be used in section (3) below)"
   ]
  },
  {
   "cell_type": "code",
   "execution_count": 115,
   "metadata": {},
   "outputs": [],
   "source": [
    "def simulate_result(solver_func, capacities, values, weights, delta, zs, num_samp, total_packed_weight_init, uncertainty_budget=0.0, is_detail=True):\n",
    "    \n",
    "    # initiate number of item\n",
    "    N = len(values)\n",
    "    \n",
    "    # initiate empty list to cater result later\n",
    "    list_weights = []\n",
    "\n",
    "    list_total_values = []\n",
    "    list_total_weights = []\n",
    "    list_mean_deviation_weights = []\n",
    "\n",
    "    list_total_values_prev = []\n",
    "    list_total_weights_prev = []\n",
    "    \n",
    "    for idx in range(num_samp):\n",
    "        \n",
    "        # initiate weights with deviation, using zs and delta as parameter\n",
    "        temp_weights = [list((weights + zs[idx] * delta).astype('int'))]\n",
    "        \n",
    "        # get the absolute deviation\n",
    "        temp_mean_deviation_weights = abs(temp_weights - weights)\n",
    "    \n",
    "        # run solver\n",
    "        if solver_func == knapsack_solver:\n",
    "            total_value, total_weight, total_packed_weight = solver_func(\n",
    "                values, temp_weights, capacities, is_detail\n",
    "            )\n",
    "        elif solver_func == rsome_solver:\n",
    "            total_value, total_weight, total_packed_weight = solver_func(\n",
    "                values, np.array(temp_weights[0]), capacities, uncertainty_budget, is_detail\n",
    "            )\n",
    "\n",
    "        # new solution - solution after the initial input has a particular degree of uncertainty\n",
    "        list_weights.append(sum(temp_weights[0]))\n",
    "        list_total_values.append(total_value)\n",
    "        list_total_weights.append(total_weight)\n",
    "        list_mean_deviation_weights.append((temp_mean_deviation_weights * np.where(np.array(total_packed_weight) > -1, 1, 0)).sum() / N)\n",
    "\n",
    "        # previous solution - check values and weight if the previous solution is still implemented\n",
    "        list_total_values_prev.append((values * np.where(np.array(total_packed_weight_init) > -1, 1, 0)).sum())\n",
    "        list_total_weights_prev.append((np.array(temp_weights[0]) * np.where(np.array(total_packed_weight_init) > -1, 1, 0)).sum())\n",
    "        \n",
    "    result_dict = {\n",
    "        'weights': list_weights,\n",
    "        'total_values': list_total_values,\n",
    "        'total_weights': list_total_weights,\n",
    "        'mean_deviation_weights': list_mean_deviation_weights,\n",
    "        'total_values_prev': list_total_values_prev,\n",
    "        'total_weights_prev': list_total_weights_prev   \n",
    "    }\n",
    "    \n",
    "    return result_dict"
   ]
  },
  {
   "cell_type": "markdown",
   "metadata": {},
   "source": [
    "##### c) Collect simulation result to a dataframe"
   ]
  },
  {
   "cell_type": "code",
   "execution_count": 116,
   "metadata": {
    "scrolled": false
   },
   "outputs": [
    {
     "data": {
      "text/html": [
       "<div>\n",
       "<style scoped>\n",
       "    .dataframe tbody tr th:only-of-type {\n",
       "        vertical-align: middle;\n",
       "    }\n",
       "\n",
       "    .dataframe tbody tr th {\n",
       "        vertical-align: top;\n",
       "    }\n",
       "\n",
       "    .dataframe thead th {\n",
       "        text-align: right;\n",
       "    }\n",
       "</style>\n",
       "<table border=\"1\" class=\"dataframe\">\n",
       "  <thead>\n",
       "    <tr style=\"text-align: right;\">\n",
       "      <th></th>\n",
       "      <th>weights</th>\n",
       "      <th>total_values</th>\n",
       "      <th>total_weights</th>\n",
       "      <th>mean_deviation_weights</th>\n",
       "      <th>total_values_prev</th>\n",
       "      <th>total_weights_prev</th>\n",
       "      <th>is_greater_than_values_prev</th>\n",
       "      <th>is_greater_than_capacities</th>\n",
       "    </tr>\n",
       "  </thead>\n",
       "  <tbody>\n",
       "    <tr>\n",
       "      <th>0</th>\n",
       "      <td>1900</td>\n",
       "      <td>7440</td>\n",
       "      <td>849</td>\n",
       "      <td>1.46</td>\n",
       "      <td>7534</td>\n",
       "      <td>889</td>\n",
       "      <td>0</td>\n",
       "      <td>1</td>\n",
       "    </tr>\n",
       "    <tr>\n",
       "      <th>1</th>\n",
       "      <td>1873</td>\n",
       "      <td>7543</td>\n",
       "      <td>850</td>\n",
       "      <td>1.94</td>\n",
       "      <td>7534</td>\n",
       "      <td>856</td>\n",
       "      <td>1</td>\n",
       "      <td>1</td>\n",
       "    </tr>\n",
       "    <tr>\n",
       "      <th>2</th>\n",
       "      <td>1889</td>\n",
       "      <td>7534</td>\n",
       "      <td>850</td>\n",
       "      <td>1.58</td>\n",
       "      <td>7534</td>\n",
       "      <td>857</td>\n",
       "      <td>0</td>\n",
       "      <td>1</td>\n",
       "    </tr>\n",
       "    <tr>\n",
       "      <th>3</th>\n",
       "      <td>1823</td>\n",
       "      <td>7654</td>\n",
       "      <td>846</td>\n",
       "      <td>2.16</td>\n",
       "      <td>7534</td>\n",
       "      <td>807</td>\n",
       "      <td>1</td>\n",
       "      <td>0</td>\n",
       "    </tr>\n",
       "    <tr>\n",
       "      <th>4</th>\n",
       "      <td>1820</td>\n",
       "      <td>7714</td>\n",
       "      <td>846</td>\n",
       "      <td>1.94</td>\n",
       "      <td>7534</td>\n",
       "      <td>779</td>\n",
       "      <td>1</td>\n",
       "      <td>0</td>\n",
       "    </tr>\n",
       "    <tr>\n",
       "      <th>...</th>\n",
       "      <td>...</td>\n",
       "      <td>...</td>\n",
       "      <td>...</td>\n",
       "      <td>...</td>\n",
       "      <td>...</td>\n",
       "      <td>...</td>\n",
       "      <td>...</td>\n",
       "      <td>...</td>\n",
       "    </tr>\n",
       "    <tr>\n",
       "      <th>995</th>\n",
       "      <td>1780</td>\n",
       "      <td>7663</td>\n",
       "      <td>847</td>\n",
       "      <td>2.16</td>\n",
       "      <td>7534</td>\n",
       "      <td>811</td>\n",
       "      <td>1</td>\n",
       "      <td>0</td>\n",
       "    </tr>\n",
       "    <tr>\n",
       "      <th>996</th>\n",
       "      <td>1822</td>\n",
       "      <td>7672</td>\n",
       "      <td>850</td>\n",
       "      <td>2.06</td>\n",
       "      <td>7534</td>\n",
       "      <td>794</td>\n",
       "      <td>1</td>\n",
       "      <td>0</td>\n",
       "    </tr>\n",
       "    <tr>\n",
       "      <th>997</th>\n",
       "      <td>1897</td>\n",
       "      <td>7484</td>\n",
       "      <td>841</td>\n",
       "      <td>1.20</td>\n",
       "      <td>7534</td>\n",
       "      <td>865</td>\n",
       "      <td>0</td>\n",
       "      <td>1</td>\n",
       "    </tr>\n",
       "    <tr>\n",
       "      <th>998</th>\n",
       "      <td>1889</td>\n",
       "      <td>7456</td>\n",
       "      <td>850</td>\n",
       "      <td>1.66</td>\n",
       "      <td>7534</td>\n",
       "      <td>880</td>\n",
       "      <td>0</td>\n",
       "      <td>1</td>\n",
       "    </tr>\n",
       "    <tr>\n",
       "      <th>999</th>\n",
       "      <td>1857</td>\n",
       "      <td>7512</td>\n",
       "      <td>845</td>\n",
       "      <td>1.60</td>\n",
       "      <td>7534</td>\n",
       "      <td>856</td>\n",
       "      <td>0</td>\n",
       "      <td>1</td>\n",
       "    </tr>\n",
       "  </tbody>\n",
       "</table>\n",
       "<p>1000 rows × 8 columns</p>\n",
       "</div>"
      ],
      "text/plain": [
       "     weights  total_values  total_weights  mean_deviation_weights  \\\n",
       "0       1900          7440            849                    1.46   \n",
       "1       1873          7543            850                    1.94   \n",
       "2       1889          7534            850                    1.58   \n",
       "3       1823          7654            846                    2.16   \n",
       "4       1820          7714            846                    1.94   \n",
       "..       ...           ...            ...                     ...   \n",
       "995     1780          7663            847                    2.16   \n",
       "996     1822          7672            850                    2.06   \n",
       "997     1897          7484            841                    1.20   \n",
       "998     1889          7456            850                    1.66   \n",
       "999     1857          7512            845                    1.60   \n",
       "\n",
       "     total_values_prev  total_weights_prev  is_greater_than_values_prev  \\\n",
       "0                 7534                 889                            0   \n",
       "1                 7534                 856                            1   \n",
       "2                 7534                 857                            0   \n",
       "3                 7534                 807                            1   \n",
       "4                 7534                 779                            1   \n",
       "..                 ...                 ...                          ...   \n",
       "995               7534                 811                            1   \n",
       "996               7534                 794                            1   \n",
       "997               7534                 865                            0   \n",
       "998               7534                 880                            0   \n",
       "999               7534                 856                            0   \n",
       "\n",
       "     is_greater_than_capacities  \n",
       "0                             1  \n",
       "1                             1  \n",
       "2                             1  \n",
       "3                             0  \n",
       "4                             0  \n",
       "..                          ...  \n",
       "995                           0  \n",
       "996                           0  \n",
       "997                           1  \n",
       "998                           1  \n",
       "999                           1  \n",
       "\n",
       "[1000 rows x 8 columns]"
      ]
     },
     "execution_count": 116,
     "metadata": {},
     "output_type": "execute_result"
    }
   ],
   "source": [
    "# run simulation\n",
    "result_sim_simple = simulate_result(knapsack_solver, capacities, values, np.array(weights[0]), delta, zs, num_samp, total_packed_weight_simple)\n",
    "\n",
    "# convert dictionary to dataframe\n",
    "df_sim_simple = pd.DataFrame(result_sim_simple)\n",
    "df_sim_simple['is_greater_than_values_prev'] = np.where(df_sim_simple['total_values'] > df_sim_simple['total_values_prev'], 1, 0)\n",
    "df_sim_simple['is_greater_than_capacities'] = np.where(df_sim_simple['total_weights_prev'] > capacities[0], 1, 0)\n",
    "df_sim_simple"
   ]
  },
  {
   "cell_type": "markdown",
   "metadata": {},
   "source": [
    "##### d) Visualize"
   ]
  },
  {
   "cell_type": "code",
   "execution_count": 117,
   "metadata": {},
   "outputs": [
    {
     "data": {
      "text/html": [
       "<div>\n",
       "<style scoped>\n",
       "    .dataframe tbody tr th:only-of-type {\n",
       "        vertical-align: middle;\n",
       "    }\n",
       "\n",
       "    .dataframe tbody tr th {\n",
       "        vertical-align: top;\n",
       "    }\n",
       "\n",
       "    .dataframe thead th {\n",
       "        text-align: right;\n",
       "    }\n",
       "</style>\n",
       "<table border=\"1\" class=\"dataframe\">\n",
       "  <thead>\n",
       "    <tr style=\"text-align: right;\">\n",
       "      <th></th>\n",
       "      <th></th>\n",
       "      <th>proportion</th>\n",
       "    </tr>\n",
       "    <tr>\n",
       "      <th>is_greater_than_values_prev</th>\n",
       "      <th>is_greater_than_capacities</th>\n",
       "      <th></th>\n",
       "    </tr>\n",
       "  </thead>\n",
       "  <tbody>\n",
       "    <tr>\n",
       "      <th rowspan=\"2\" valign=\"top\">0</th>\n",
       "      <th>0</th>\n",
       "      <td>0.020</td>\n",
       "    </tr>\n",
       "    <tr>\n",
       "      <th>1</th>\n",
       "      <td>0.255</td>\n",
       "    </tr>\n",
       "    <tr>\n",
       "      <th rowspan=\"2\" valign=\"top\">1</th>\n",
       "      <th>0</th>\n",
       "      <td>0.680</td>\n",
       "    </tr>\n",
       "    <tr>\n",
       "      <th>1</th>\n",
       "      <td>0.045</td>\n",
       "    </tr>\n",
       "  </tbody>\n",
       "</table>\n",
       "</div>"
      ],
      "text/plain": [
       "                                                        proportion\n",
       "is_greater_than_values_prev is_greater_than_capacities            \n",
       "0                           0                                0.020\n",
       "                            1                                0.255\n",
       "1                           0                                0.680\n",
       "                            1                                0.045"
      ]
     },
     "execution_count": 117,
     "metadata": {},
     "output_type": "execute_result"
    }
   ],
   "source": [
    "# (0,0) --> total_values <= total_values_prev and total_weights_prev <= capacities --> weight (+) / value (+) \n",
    "# (1,0) --> total_values > total_values_prev and total_weights_prev <= capacities --> weight (+) / value (-)\n",
    "# (0,1) --> total_values <= total_values_prev and total_weights_prev > capacities --> weight (-) / value (+)\n",
    "# (1,1) --> total_values > total_values_prev and total_weights_prev > capacities --> weight (-) / value (-)\n",
    "\n",
    "groups_sim_simple = df_sim_simple.groupby(['is_greater_than_values_prev', 'is_greater_than_capacities'])\n",
    "df_summary_simple = pd.DataFrame({'proportion': groups_sim_simple.size() / len(df_sim_simple)})\n",
    "df_summary_simple"
   ]
  },
  {
   "cell_type": "code",
   "execution_count": 118,
   "metadata": {},
   "outputs": [
    {
     "data": {
      "text/plain": [
       "<matplotlib.legend.Legend at 0x1257b3d90>"
      ]
     },
     "execution_count": 118,
     "metadata": {},
     "output_type": "execute_result"
    },
    {
     "data": {
      "image/png": "[encoded data removed]",
      "text/plain": [
       "<Figure size 432x288 with 1 Axes>"
      ]
     },
     "metadata": {
      "needs_background": "light"
     },
     "output_type": "display_data"
    }
   ],
   "source": [
    "for name, group in groups_sim_simple:\n",
    "    plt.plot(group.total_values, group.total_values_prev, marker='o', linestyle='', markersize=5, label=name)\n",
    "\n",
    "plt.xlabel('Total values')\n",
    "plt.ylabel('Total previous values')\n",
    "plt.legend()"
   ]
  },
  {
   "cell_type": "code",
   "execution_count": 119,
   "metadata": {},
   "outputs": [
    {
     "data": {
      "text/plain": [
       "<matplotlib.legend.Legend at 0x1257b32e0>"
      ]
     },
     "execution_count": 119,
     "metadata": {},
     "output_type": "execute_result"
    },
    {
     "data": {
      "image/png": "[encoded data removed]",
      "text/plain": [
       "<Figure size 432x288 with 1 Axes>"
      ]
     },
     "metadata": {
      "needs_background": "light"
     },
     "output_type": "display_data"
    }
   ],
   "source": [
    "for name, group in groups_sim_simple:\n",
    "    plt.plot(group.total_weights, group.total_weights_prev, marker='o', linestyle='', markersize=5, label=name)\n",
    "\n",
    "plt.xlabel('Total weights')\n",
    "plt.ylabel('Total previous weights')\n",
    "plt.legend()"
   ]
  },
  {
   "cell_type": "code",
   "execution_count": 120,
   "metadata": {},
   "outputs": [
    {
     "data": {
      "text/plain": [
       "<matplotlib.legend.Legend at 0x124d5c280>"
      ]
     },
     "execution_count": 120,
     "metadata": {},
     "output_type": "execute_result"
    },
    {
     "data": {
      "image/png": "[encoded data removed]",
      "text/plain": [
       "<Figure size 432x288 with 1 Axes>"
      ]
     },
     "metadata": {
      "needs_background": "light"
     },
     "output_type": "display_data"
    }
   ],
   "source": [
    "for name, group in groups_sim_simple:\n",
    "    plt.plot(group.total_values, group.total_weights, marker='o', linestyle='', markersize=5, label=name)\n",
    "\n",
    "plt.xlabel('Total values')\n",
    "plt.ylabel('Total weights')\n",
    "plt.legend()"
   ]
  },
  {
   "cell_type": "markdown",
   "metadata": {},
   "source": [
    "### 2) [OPTIONAL] LET'S SEE A BIT DEEPER\n",
    "##### a) Check 1st case: value <= current value and previous weight <= capacities, which is good for weight but bad for value"
   ]
  },
  {
   "cell_type": "code",
   "execution_count": 121,
   "metadata": {},
   "outputs": [
    {
     "data": {
      "text/plain": [
       "weights                        1845.00\n",
       "total_values                   7534.00\n",
       "total_weights                   850.00\n",
       "mean_deviation_weights            2.08\n",
       "total_values_prev              7534.00\n",
       "total_weights_prev              850.00\n",
       "is_greater_than_values_prev       0.00\n",
       "is_greater_than_capacities        0.00\n",
       "Name: 125, dtype: float64"
      ]
     },
     "execution_count": 121,
     "metadata": {},
     "output_type": "execute_result"
    }
   ],
   "source": [
    "# only data points where '=' is fulfilled rather than the '<'\n",
    "idx1 = df_sim_simple[(df_sim_simple['is_greater_than_capacities'] == 0) & \n",
    "                    (df_sim_simple['is_greater_than_values_prev'] == 0) &\n",
    "                    (df_sim_simple['total_values'] <= df_sim_simple['total_values_prev']) &\n",
    "                    (df_sim_simple['total_weights_prev'] <= capacities[0])].index[0]\n",
    "df_sim_simple.iloc[idx1]"
   ]
  },
  {
   "cell_type": "markdown",
   "metadata": {},
   "source": [
    "##### b) Check 2nd case: value > current value and previous weight <= capacities, which is good for weight and value"
   ]
  },
  {
   "cell_type": "code",
   "execution_count": 122,
   "metadata": {},
   "outputs": [
    {
     "data": {
      "text/plain": [
       "weights                        1823.00\n",
       "total_values                   7654.00\n",
       "total_weights                   846.00\n",
       "mean_deviation_weights            2.16\n",
       "total_values_prev              7534.00\n",
       "total_weights_prev              807.00\n",
       "is_greater_than_values_prev       1.00\n",
       "is_greater_than_capacities        0.00\n",
       "Name: 3, dtype: float64"
      ]
     },
     "execution_count": 122,
     "metadata": {},
     "output_type": "execute_result"
    }
   ],
   "source": [
    "idx2 = df_sim_simple[(df_sim_simple['is_greater_than_capacities'] == 0) & \n",
    "                    (df_sim_simple['is_greater_than_values_prev'] == 1) &\n",
    "                    (df_sim_simple['total_values'] > df_sim_simple['total_values_prev']) &\n",
    "                    (df_sim_simple['total_weights_prev'] <= capacities[0])].index[0]\n",
    "df_sim_simple.iloc[idx2]"
   ]
  },
  {
   "cell_type": "markdown",
   "metadata": {},
   "source": [
    "##### c) Check 3rd case: value <= current value and previous weight > capacities, which is bad for weight and value"
   ]
  },
  {
   "cell_type": "code",
   "execution_count": 123,
   "metadata": {},
   "outputs": [
    {
     "data": {
      "text/plain": [
       "weights                        1900.00\n",
       "total_values                   7440.00\n",
       "total_weights                   849.00\n",
       "mean_deviation_weights            1.46\n",
       "total_values_prev              7534.00\n",
       "total_weights_prev              889.00\n",
       "is_greater_than_values_prev       0.00\n",
       "is_greater_than_capacities        1.00\n",
       "Name: 0, dtype: float64"
      ]
     },
     "execution_count": 123,
     "metadata": {},
     "output_type": "execute_result"
    }
   ],
   "source": [
    "# only get where previous value is strictly lesser than current value\n",
    "idx3 = df_sim_simple[(df_sim_simple['is_greater_than_capacities'] == 1) & \n",
    "                    (df_sim_simple['is_greater_than_values_prev'] == 0) &\n",
    "                    (df_sim_simple['total_values'] < df_sim_simple['total_values_prev']) &\n",
    "                    (df_sim_simple['total_weights_prev'] > capacities[0])].index[0]\n",
    "df_sim_simple.iloc[idx3]"
   ]
  },
  {
   "cell_type": "markdown",
   "metadata": {},
   "source": [
    "##### d) Check 4th case: value > current value and previous weight > capacities, which is good for value but bad for weight"
   ]
  },
  {
   "cell_type": "code",
   "execution_count": 124,
   "metadata": {},
   "outputs": [
    {
     "data": {
      "text/plain": [
       "weights                        1873.00\n",
       "total_values                   7543.00\n",
       "total_weights                   850.00\n",
       "mean_deviation_weights            1.94\n",
       "total_values_prev              7534.00\n",
       "total_weights_prev              856.00\n",
       "is_greater_than_values_prev       1.00\n",
       "is_greater_than_capacities        1.00\n",
       "Name: 1, dtype: float64"
      ]
     },
     "execution_count": 124,
     "metadata": {},
     "output_type": "execute_result"
    }
   ],
   "source": [
    "idx4 = df_sim_simple[(df_sim_simple['is_greater_than_capacities'] == 1) & \n",
    "                    (df_sim_simple['is_greater_than_values_prev'] == 1) &\n",
    "                    (df_sim_simple['total_values'] > df_sim_simple['total_values_prev']) &\n",
    "                    (df_sim_simple['total_weights_prev'] > capacities[0])].index[0]\n",
    "df_sim_simple.iloc[idx4]"
   ]
  },
  {
   "cell_type": "markdown",
   "metadata": {},
   "source": [
    "### 3) ROBUST OPTIMIZATION $^{4}$\n",
    "##### a) Initiate library and variables for RSOME"
   ]
  },
  {
   "cell_type": "code",
   "execution_count": 125,
   "metadata": {},
   "outputs": [],
   "source": [
    "from rsome import ro\n",
    "from rsome import ort_solver as ort\n",
    "import rsome as rso"
   ]
  },
  {
   "cell_type": "code",
   "execution_count": 126,
   "metadata": {},
   "outputs": [],
   "source": [
    "capacities_ro = capacities[0]\n",
    "values_ro = np.array(values)\n",
    "weights_ro = np.array(weights[0])\n",
    "delta_ro = 0.2 * weights_ro\n",
    "\n",
    "# for probability simulation later\n",
    "step = 0.05\n",
    "rs = np.arange(0.05, 1.0 + step, step)"
   ]
  },
  {
   "cell_type": "markdown",
   "metadata": {},
   "source": [
    "##### b1) Define solver function with RSOME"
   ]
  },
  {
   "cell_type": "code",
   "execution_count": 127,
   "metadata": {},
   "outputs": [],
   "source": [
    "def rsome_solver(values, weights, capacities, uncertainty_budget, is_detail=False):\n",
    "\n",
    "    model = ro.Model('robust')\n",
    "    x = model.dvar(N, vtype='B')    \n",
    "    z = model.rvar(N)            \n",
    "    \n",
    "    z_set = (abs(z) <= 1, rso.norm(z, 1) <= (uncertainty_budget * 10))\n",
    "    model.max(values @ x)\n",
    "    model.st(((weights + z * delta) @ x <= capacities).forall(z_set))\n",
    "\n",
    "    model.solve(ort, display=False)\n",
    "\n",
    "    total_value = model.get()\n",
    "    x_sol = x.get()\n",
    "    total_weight = (x_sol * weights).sum()\n",
    "    \n",
    "    if is_detail == True:\n",
    "        total_packed_weight = list((x_sol * weights).astype('int'))\n",
    "        for idx in range(len(total_packed_weight)):\n",
    "            if ((weights[idx] > 0) & (x_sol[idx] <= 0)):\n",
    "                total_packed_weight[idx] = -1\n",
    "    else:\n",
    "        total_packed_weight = None\n",
    "    \n",
    "    return total_value, total_weight, total_packed_weight, x_sol"
   ]
  },
  {
   "cell_type": "markdown",
   "metadata": {},
   "source": [
    "##### c1) Get result"
   ]
  },
  {
   "cell_type": "code",
   "execution_count": 128,
   "metadata": {},
   "outputs": [
    {
     "name": "stdout",
     "output_type": "stream",
     "text": [
      "total_value: 7484.0\n",
      "total_weight: 821.0\n",
      "total_packed_weight: [7, 0, -1, 22, 80, -1, 11, -1, -1, -1, 59, 18, 0, -1, 3, 8, 15, 42, 9, 0, -1, 47, 52, -1, 26, -1, -1, 6, -1, 84, 2, 4, 18, -1, 7, -1, -1, -1, 71, 3, -1, 66, 31, -1, 0, -1, -1, 65, 52, 13]\n"
     ]
    }
   ],
   "source": [
    "total_value_rsome, total_weight_rsome, total_packed_weight_rsome, _ = rsome_solver(values_ro, weights_ro, capacities_ro, 0.1, True)\n",
    "\n",
    "print('total_value:', total_value_rsome)\n",
    "print('total_weight:', total_weight_rsome)\n",
    "print('total_packed_weight:', total_packed_weight_rsome)"
   ]
  },
  {
   "cell_type": "markdown",
   "metadata": {},
   "source": [
    "##### d1) Collect simulation result from RSOME solver to a dataframe"
   ]
  },
  {
   "cell_type": "code",
   "execution_count": 129,
   "metadata": {},
   "outputs": [
    {
     "data": {
      "text/html": [
       "<div>\n",
       "<style scoped>\n",
       "    .dataframe tbody tr th:only-of-type {\n",
       "        vertical-align: middle;\n",
       "    }\n",
       "\n",
       "    .dataframe tbody tr th {\n",
       "        vertical-align: top;\n",
       "    }\n",
       "\n",
       "    .dataframe thead th {\n",
       "        text-align: right;\n",
       "    }\n",
       "</style>\n",
       "<table border=\"1\" class=\"dataframe\">\n",
       "  <thead>\n",
       "    <tr style=\"text-align: right;\">\n",
       "      <th></th>\n",
       "      <th>weights</th>\n",
       "      <th>total_values</th>\n",
       "      <th>total_weights</th>\n",
       "      <th>mean_deviation_weights</th>\n",
       "      <th>total_values_prev</th>\n",
       "      <th>total_weights_prev</th>\n",
       "      <th>is_greater_than_values_prev</th>\n",
       "      <th>is_greater_than_capacities</th>\n",
       "    </tr>\n",
       "  </thead>\n",
       "  <tbody>\n",
       "    <tr>\n",
       "      <th>0</th>\n",
       "      <td>1900</td>\n",
       "      <td>7440</td>\n",
       "      <td>849</td>\n",
       "      <td>1.46</td>\n",
       "      <td>7484</td>\n",
       "      <td>862</td>\n",
       "      <td>0</td>\n",
       "      <td>1</td>\n",
       "    </tr>\n",
       "    <tr>\n",
       "      <th>1</th>\n",
       "      <td>1873</td>\n",
       "      <td>7543</td>\n",
       "      <td>850</td>\n",
       "      <td>1.94</td>\n",
       "      <td>7484</td>\n",
       "      <td>826</td>\n",
       "      <td>1</td>\n",
       "      <td>0</td>\n",
       "    </tr>\n",
       "    <tr>\n",
       "      <th>2</th>\n",
       "      <td>1889</td>\n",
       "      <td>7534</td>\n",
       "      <td>850</td>\n",
       "      <td>1.58</td>\n",
       "      <td>7484</td>\n",
       "      <td>823</td>\n",
       "      <td>1</td>\n",
       "      <td>0</td>\n",
       "    </tr>\n",
       "    <tr>\n",
       "      <th>3</th>\n",
       "      <td>1823</td>\n",
       "      <td>7654</td>\n",
       "      <td>846</td>\n",
       "      <td>2.16</td>\n",
       "      <td>7484</td>\n",
       "      <td>784</td>\n",
       "      <td>1</td>\n",
       "      <td>0</td>\n",
       "    </tr>\n",
       "    <tr>\n",
       "      <th>4</th>\n",
       "      <td>1820</td>\n",
       "      <td>7714</td>\n",
       "      <td>846</td>\n",
       "      <td>1.94</td>\n",
       "      <td>7484</td>\n",
       "      <td>755</td>\n",
       "      <td>1</td>\n",
       "      <td>0</td>\n",
       "    </tr>\n",
       "    <tr>\n",
       "      <th>...</th>\n",
       "      <td>...</td>\n",
       "      <td>...</td>\n",
       "      <td>...</td>\n",
       "      <td>...</td>\n",
       "      <td>...</td>\n",
       "      <td>...</td>\n",
       "      <td>...</td>\n",
       "      <td>...</td>\n",
       "    </tr>\n",
       "    <tr>\n",
       "      <th>995</th>\n",
       "      <td>1780</td>\n",
       "      <td>7663</td>\n",
       "      <td>847</td>\n",
       "      <td>2.16</td>\n",
       "      <td>7484</td>\n",
       "      <td>787</td>\n",
       "      <td>1</td>\n",
       "      <td>0</td>\n",
       "    </tr>\n",
       "    <tr>\n",
       "      <th>996</th>\n",
       "      <td>1822</td>\n",
       "      <td>7672</td>\n",
       "      <td>850</td>\n",
       "      <td>2.06</td>\n",
       "      <td>7484</td>\n",
       "      <td>766</td>\n",
       "      <td>1</td>\n",
       "      <td>0</td>\n",
       "    </tr>\n",
       "    <tr>\n",
       "      <th>997</th>\n",
       "      <td>1897</td>\n",
       "      <td>7484</td>\n",
       "      <td>841</td>\n",
       "      <td>1.20</td>\n",
       "      <td>7484</td>\n",
       "      <td>841</td>\n",
       "      <td>0</td>\n",
       "      <td>0</td>\n",
       "    </tr>\n",
       "    <tr>\n",
       "      <th>998</th>\n",
       "      <td>1889</td>\n",
       "      <td>7456</td>\n",
       "      <td>850</td>\n",
       "      <td>1.66</td>\n",
       "      <td>7484</td>\n",
       "      <td>854</td>\n",
       "      <td>0</td>\n",
       "      <td>1</td>\n",
       "    </tr>\n",
       "    <tr>\n",
       "      <th>999</th>\n",
       "      <td>1857</td>\n",
       "      <td>7512</td>\n",
       "      <td>845</td>\n",
       "      <td>1.60</td>\n",
       "      <td>7484</td>\n",
       "      <td>829</td>\n",
       "      <td>1</td>\n",
       "      <td>0</td>\n",
       "    </tr>\n",
       "  </tbody>\n",
       "</table>\n",
       "<p>1000 rows × 8 columns</p>\n",
       "</div>"
      ],
      "text/plain": [
       "     weights  total_values  total_weights  mean_deviation_weights  \\\n",
       "0       1900          7440            849                    1.46   \n",
       "1       1873          7543            850                    1.94   \n",
       "2       1889          7534            850                    1.58   \n",
       "3       1823          7654            846                    2.16   \n",
       "4       1820          7714            846                    1.94   \n",
       "..       ...           ...            ...                     ...   \n",
       "995     1780          7663            847                    2.16   \n",
       "996     1822          7672            850                    2.06   \n",
       "997     1897          7484            841                    1.20   \n",
       "998     1889          7456            850                    1.66   \n",
       "999     1857          7512            845                    1.60   \n",
       "\n",
       "     total_values_prev  total_weights_prev  is_greater_than_values_prev  \\\n",
       "0                 7484                 862                            0   \n",
       "1                 7484                 826                            1   \n",
       "2                 7484                 823                            1   \n",
       "3                 7484                 784                            1   \n",
       "4                 7484                 755                            1   \n",
       "..                 ...                 ...                          ...   \n",
       "995               7484                 787                            1   \n",
       "996               7484                 766                            1   \n",
       "997               7484                 841                            0   \n",
       "998               7484                 854                            0   \n",
       "999               7484                 829                            1   \n",
       "\n",
       "     is_greater_than_capacities  \n",
       "0                             1  \n",
       "1                             0  \n",
       "2                             0  \n",
       "3                             0  \n",
       "4                             0  \n",
       "..                          ...  \n",
       "995                           0  \n",
       "996                           0  \n",
       "997                           0  \n",
       "998                           1  \n",
       "999                           0  \n",
       "\n",
       "[1000 rows x 8 columns]"
      ]
     },
     "execution_count": 129,
     "metadata": {},
     "output_type": "execute_result"
    }
   ],
   "source": [
    "# run simulation\n",
    "result_sim_rsome = simulate_result(knapsack_solver, capacities, values, np.array(weights[0]), delta, zs, num_samp, total_packed_weight_rsome)\n",
    "\n",
    "# convert dictionary to dataframe\n",
    "df_sim_rsome = pd.DataFrame(result_sim_rsome)\n",
    "df_sim_rsome['is_greater_than_values_prev'] = np.where(df_sim_rsome['total_values'] > df_sim_rsome['total_values_prev'], 1, 0)\n",
    "df_sim_rsome['is_greater_than_capacities'] = np.where(df_sim_rsome['total_weights_prev'] > capacities_ro, 1, 0)\n",
    "df_sim_rsome"
   ]
  },
  {
   "cell_type": "markdown",
   "metadata": {},
   "source": [
    "##### d1) Visualize"
   ]
  },
  {
   "cell_type": "code",
   "execution_count": 130,
   "metadata": {},
   "outputs": [
    {
     "data": {
      "text/html": [
       "<div>\n",
       "<style scoped>\n",
       "    .dataframe tbody tr th:only-of-type {\n",
       "        vertical-align: middle;\n",
       "    }\n",
       "\n",
       "    .dataframe tbody tr th {\n",
       "        vertical-align: top;\n",
       "    }\n",
       "\n",
       "    .dataframe thead th {\n",
       "        text-align: right;\n",
       "    }\n",
       "</style>\n",
       "<table border=\"1\" class=\"dataframe\">\n",
       "  <thead>\n",
       "    <tr style=\"text-align: right;\">\n",
       "      <th></th>\n",
       "      <th></th>\n",
       "      <th>proportion</th>\n",
       "    </tr>\n",
       "    <tr>\n",
       "      <th>is_greater_than_values_prev</th>\n",
       "      <th>is_greater_than_capacities</th>\n",
       "      <th></th>\n",
       "    </tr>\n",
       "  </thead>\n",
       "  <tbody>\n",
       "    <tr>\n",
       "      <th rowspan=\"2\" valign=\"top\">0</th>\n",
       "      <th>0</th>\n",
       "      <td>0.049</td>\n",
       "    </tr>\n",
       "    <tr>\n",
       "      <th>1</th>\n",
       "      <td>0.036</td>\n",
       "    </tr>\n",
       "    <tr>\n",
       "      <th rowspan=\"2\" valign=\"top\">1</th>\n",
       "      <th>0</th>\n",
       "      <td>0.913</td>\n",
       "    </tr>\n",
       "    <tr>\n",
       "      <th>1</th>\n",
       "      <td>0.002</td>\n",
       "    </tr>\n",
       "  </tbody>\n",
       "</table>\n",
       "</div>"
      ],
      "text/plain": [
       "                                                        proportion\n",
       "is_greater_than_values_prev is_greater_than_capacities            \n",
       "0                           0                                0.049\n",
       "                            1                                0.036\n",
       "1                           0                                0.913\n",
       "                            1                                0.002"
      ]
     },
     "execution_count": 130,
     "metadata": {},
     "output_type": "execute_result"
    }
   ],
   "source": [
    "# (0,0) --> total_values <= total_values_prev and total_weights_prev <= capacities --> weight (+) / value (+) \n",
    "# (1,0) --> total_values > total_values_prev and total_weights_prev <= capacities --> weight (+) / value (-)\n",
    "# (0,1) --> total_values <= total_values_prev and total_weights_prev > capacities --> weight (-) / value (+)\n",
    "# (1,1) --> total_values > total_values_prev and total_weights_prev > capacities --> weight (-) / value (-)\n",
    "\n",
    "groups_sim_rsome = df_sim_rsome.groupby(['is_greater_than_values_prev', 'is_greater_than_capacities'])\n",
    "df_summary_rsome = pd.DataFrame({'proportion': groups_sim_rsome.size() / len(df_sim_rsome)})\n",
    "df_summary_rsome"
   ]
  },
  {
   "cell_type": "code",
   "execution_count": 131,
   "metadata": {},
   "outputs": [
    {
     "data": {
      "text/plain": [
       "<matplotlib.legend.Legend at 0x125889910>"
      ]
     },
     "execution_count": 131,
     "metadata": {},
     "output_type": "execute_result"
    },
    {
     "data": {
      "image/png": "[encoded data removed]",
      "text/plain": [
       "<Figure size 432x288 with 1 Axes>"
      ]
     },
     "metadata": {
      "needs_background": "light"
     },
     "output_type": "display_data"
    }
   ],
   "source": [
    "for name, group in groups_sim_rsome:\n",
    "    plt.plot(group.total_values, group.total_values_prev, marker='o', linestyle='', markersize=5, label=name)\n",
    "\n",
    "plt.xlabel('Total values')\n",
    "plt.ylabel('Total previous values')\n",
    "plt.legend()"
   ]
  },
  {
   "cell_type": "code",
   "execution_count": 132,
   "metadata": {},
   "outputs": [
    {
     "data": {
      "text/plain": [
       "<matplotlib.legend.Legend at 0x12588f5b0>"
      ]
     },
     "execution_count": 132,
     "metadata": {},
     "output_type": "execute_result"
    },
    {
     "data": {
      "image/png": "[encoded data removed]",
      "text/plain": [
       "<Figure size 432x288 with 1 Axes>"
      ]
     },
     "metadata": {
      "needs_background": "light"
     },
     "output_type": "display_data"
    }
   ],
   "source": [
    "for name, group in groups_sim_rsome:\n",
    "    plt.plot(group.total_weights, group.total_weights_prev, marker='o', linestyle='', markersize=5, label=name)\n",
    "\n",
    "plt.xlabel('Total weights')\n",
    "plt.ylabel('Total previous weights')\n",
    "plt.legend()"
   ]
  },
  {
   "cell_type": "code",
   "execution_count": 133,
   "metadata": {},
   "outputs": [
    {
     "data": {
      "text/plain": [
       "<matplotlib.legend.Legend at 0x1258b8b20>"
      ]
     },
     "execution_count": 133,
     "metadata": {},
     "output_type": "execute_result"
    },
    {
     "data": {
      "image/png": "[encoded data removed]",
      "text/plain": [
       "<Figure size 432x288 with 1 Axes>"
      ]
     },
     "metadata": {
      "needs_background": "light"
     },
     "output_type": "display_data"
    }
   ],
   "source": [
    "for name, group in groups_sim_rsome:\n",
    "    plt.plot(group.total_values, group.total_weights, marker='o', linestyle='', markersize=5, label=name)\n",
    "\n",
    "plt.xlabel('Total values')\n",
    "plt.ylabel('Total weights')\n",
    "plt.legend()"
   ]
  },
  {
   "cell_type": "markdown",
   "metadata": {},
   "source": [
    "##### b2) Define probability simulation function"
   ]
  },
  {
   "cell_type": "code",
   "execution_count": 134,
   "metadata": {},
   "outputs": [],
   "source": [
    "def sim(x_sol, zs):\n",
    "\n",
    "    weights_sample = (weights + zs*delta).astype('int') \n",
    "    \n",
    "    return (weights_sample @ x_sol > capacities).mean()"
   ]
  },
  {
   "cell_type": "markdown",
   "metadata": {},
   "source": [
    "##### c2) Collect probability simulation result from RSOME solver to a dataframe"
   ]
  },
  {
   "cell_type": "code",
   "execution_count": 135,
   "metadata": {},
   "outputs": [],
   "source": [
    "outputs_rb = [rsome_solver(values_ro, weights_ro, capacities_ro, r, is_detail=True) for r in rs]\n",
    "total_value_prob_rsome = [output[0] for output in outputs_rb]      \n",
    "total_weight_prob_rsome = [output[1] for output in outputs_rb]\n",
    "total_packed_weight_prob_rsome = [output[2] for output in outputs_rb]\n",
    "prob_violation_prob_rsome = [sim(np.where(np.array(output[2]) > 0, 1, 0), zs) for output in outputs_rb]"
   ]
  },
  {
   "cell_type": "code",
   "execution_count": 136,
   "metadata": {
    "scrolled": true
   },
   "outputs": [
    {
     "data": {
      "text/html": [
       "<div>\n",
       "<style scoped>\n",
       "    .dataframe tbody tr th:only-of-type {\n",
       "        vertical-align: middle;\n",
       "    }\n",
       "\n",
       "    .dataframe tbody tr th {\n",
       "        vertical-align: top;\n",
       "    }\n",
       "\n",
       "    .dataframe thead th {\n",
       "        text-align: right;\n",
       "    }\n",
       "</style>\n",
       "<table border=\"1\" class=\"dataframe\">\n",
       "  <thead>\n",
       "    <tr style=\"text-align: right;\">\n",
       "      <th></th>\n",
       "      <th>uncertainty</th>\n",
       "      <th>total_value</th>\n",
       "      <th>total_weight</th>\n",
       "      <th>probability_violation</th>\n",
       "    </tr>\n",
       "  </thead>\n",
       "  <tbody>\n",
       "    <tr>\n",
       "      <th>0</th>\n",
       "      <td>0.05</td>\n",
       "      <td>7512.0</td>\n",
       "      <td>837.0</td>\n",
       "      <td>0.154</td>\n",
       "    </tr>\n",
       "    <tr>\n",
       "      <th>1</th>\n",
       "      <td>0.10</td>\n",
       "      <td>7484.0</td>\n",
       "      <td>821.0</td>\n",
       "      <td>0.038</td>\n",
       "    </tr>\n",
       "    <tr>\n",
       "      <th>2</th>\n",
       "      <td>0.15</td>\n",
       "      <td>7484.0</td>\n",
       "      <td>821.0</td>\n",
       "      <td>0.038</td>\n",
       "    </tr>\n",
       "    <tr>\n",
       "      <th>3</th>\n",
       "      <td>0.20</td>\n",
       "      <td>7456.0</td>\n",
       "      <td>817.0</td>\n",
       "      <td>0.026</td>\n",
       "    </tr>\n",
       "    <tr>\n",
       "      <th>4</th>\n",
       "      <td>0.25</td>\n",
       "      <td>7415.0</td>\n",
       "      <td>797.0</td>\n",
       "      <td>0.001</td>\n",
       "    </tr>\n",
       "  </tbody>\n",
       "</table>\n",
       "</div>"
      ],
      "text/plain": [
       "   uncertainty  total_value  total_weight  probability_violation\n",
       "0         0.05       7512.0         837.0                  0.154\n",
       "1         0.10       7484.0         821.0                  0.038\n",
       "2         0.15       7484.0         821.0                  0.038\n",
       "3         0.20       7456.0         817.0                  0.026\n",
       "4         0.25       7415.0         797.0                  0.001"
      ]
     },
     "execution_count": 136,
     "metadata": {},
     "output_type": "execute_result"
    }
   ],
   "source": [
    "df_sim_prob_rsome = pd.DataFrame(list(zip(rs, total_value_prob_rsome, total_weight_prob_rsome, prob_violation_prob_rsome)), \n",
    "                     columns =['uncertainty', 'total_value', 'total_weight', 'probability_violation'])\n",
    "df_sim_prob_rsome.head()"
   ]
  },
  {
   "cell_type": "markdown",
   "metadata": {},
   "source": [
    "##### d2) Visualize"
   ]
  },
  {
   "cell_type": "code",
   "execution_count": 137,
   "metadata": {},
   "outputs": [
    {
     "data": {
      "image/png": "[encoded data removed]",
      "text/plain": [
       "<Figure size 432x288 with 1 Axes>"
      ]
     },
     "metadata": {
      "needs_background": "light"
     },
     "output_type": "display_data"
    }
   ],
   "source": [
    "plt.scatter(rs, prob_violation_prob_rsome, marker='o')\n",
    "plt.plot(rs, prob_violation_prob_rsome)\n",
    "plt.xlabel('Parameter r in robust optimization')\n",
    "plt.ylabel('Prob. violation')\n",
    "plt.show()"
   ]
  },
  {
   "cell_type": "code",
   "execution_count": 138,
   "metadata": {},
   "outputs": [
    {
     "data": {
      "image/png": "[encoded data removed]",
      "text/plain": [
       "<Figure size 432x288 with 1 Axes>"
      ]
     },
     "metadata": {
      "needs_background": "light"
     },
     "output_type": "display_data"
    }
   ],
   "source": [
    "plt.scatter(rs, total_value_prob_rsome, marker='o')\n",
    "plt.plot(rs, total_value_prob_rsome)\n",
    "plt.xlabel('Parameter r in robust optimization')\n",
    "plt.ylabel('Total value')\n",
    "plt.show()"
   ]
  },
  {
   "cell_type": "markdown",
   "metadata": {},
   "source": [
    "### 4) REFERENCES:\n",
    "1. https://pubsonline.informs.org/doi/abs/10.1287/opre.1030.0065\n",
    "2. http://www.optimization-online.org/DB_FILE/2021/06/8443.pdf\n",
    "3. https://developers.google.com/optimization/bin/knapsack\n",
    "4. https://xiongpengnus.github.io/rsome/example_ro_knapsack\n",
    "5. https://en.wikipedia.org/wiki/Norm_%28mathematics%29#Properties\n",
    "6. https://rorasa.wordpress.com/2012/05/13/l0-norm-l1-norm-l2-norm-l-infinity-norm/"
   ]
  }
 ],
 "metadata": {
  "kernelspec": {
   "display_name": "venv",
   "language": "python",
   "name": "venv"
  },
  "language_info": {
   "codemirror_mode": {
    "name": "ipython",
    "version": 3
   },
   "file_extension": ".py",
   "mimetype": "text/x-python",
   "name": "python",
   "nbconvert_exporter": "python",
   "pygments_lexer": "ipython3",
   "version": "3.9.7"
  }
 },
 "nbformat": 4,
 "nbformat_minor": 4
}
